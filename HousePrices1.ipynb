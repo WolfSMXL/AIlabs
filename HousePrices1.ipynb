{
  "nbformat": 4,
  "nbformat_minor": 0,
  "metadata": {
    "coursera": {
      "course_slug": "introduction-tensorflow",
      "graded_item_id": "jRjw8",
      "launcher_item_id": "YoQKl"
    },
    "kernelspec": {
      "display_name": "Python 3",
      "language": "python",
      "name": "python3"
    },
    "language_info": {
      "codemirror_mode": {
        "name": "ipython",
        "version": 3
      },
      "file_extension": ".py",
      "mimetype": "text/x-python",
      "name": "python",
      "nbconvert_exporter": "python",
      "pygments_lexer": "ipython3",
      "version": "3.6.8"
    },
    "colab": {
      "name": "HousePrices1.ipynb",
      "provenance": []
    }
  },
  "cells": [
    {
      "cell_type": "markdown",
      "metadata": {
        "id": "mw2VBrBcgvGa"
      },
      "source": [
        "###В этом упражнении вы построите нейронную сеть, которая предсказывает цену дома по простой формуле.\n",
        "\n",
        "Представьте себе, что цены на жилье зависят только от количества комнат: дом стоит 500 000 + 500 000 за комнату. то есть дом с 1 спальней стоит 1 000 000, дом с 2 спальнями стоит 1 500 000 и т.д.\n",
        "\n",
        "Как вы создадите нейронную сеть, которая обучается этой зависисмости? проверьте ее, чтобы она предсказывала для дома с 7 спальнями стоимость около 4 млн.\n",
        "\n",
        "**Подсказка**: ваша сеть может работать лучше, если вы *масштабируете* цену так, как это было описано в лекциях. Не нужно давать ответ 4 000 000, лучше создать что-то, что будет предсказывать число 4 и выводить ваш ответ в миллионах."
      ]
    },
    {
      "cell_type": "code",
      "metadata": {
        "id": "moHyJyr4P0OO"
      },
      "source": [
        "import tensorflow as tf\n",
        "import numpy as np\n",
        "from tensorflow import keras"
      ],
      "execution_count": 1,
      "outputs": []
    },
    {
      "cell_type": "code",
      "metadata": {
        "id": "PUNO2E6SeURH"
      },
      "source": [
        "# GRADED FUNCTION: house_model\n",
        "def house_model(y_new):\n",
        "    xs = np.array([1.0, 2.0, 3.0, 4.0, 5.0, 6.0, 7.0, 8.0, 9.0, 10.0], dtype=float)\n",
        "    ys = np.array([1.0, 1.5, 2.0, 2.5, 3.0, 3.5, 4.0, 4.5, 5.0, 5.5], dtype=float)\n",
        "    model = keras.Sequential([keras.layers.Dense(units=1, input_shape=[1])])\n",
        "    model.compile(optimizer='sgd', loss='mean_squared_error')\n",
        "    model.fit(xs, ys, epochs=30)\n",
        "    return model.predict(y_new)[0]"
      ],
      "execution_count": 12,
      "outputs": []
    },
    {
      "cell_type": "code",
      "metadata": {
        "id": "LDe5PlKCP0OQ",
        "outputId": "b41c3534-7e9d-45ab-ad22-7340a47c230f",
        "colab": {
          "base_uri": "https://localhost:8080/"
        }
      },
      "source": [
        "prediction = house_model([7.0])\n",
        "print(prediction*1000000)"
      ],
      "execution_count": 14,
      "outputs": [
        {
          "output_type": "stream",
          "name": "stdout",
          "text": [
            "Epoch 1/30\n",
            "1/1 [==============================] - 0s 411ms/step - loss: 3.4997\n",
            "Epoch 2/30\n",
            "1/1 [==============================] - 0s 9ms/step - loss: 0.2201\n",
            "Epoch 3/30\n",
            "1/1 [==============================] - 0s 8ms/step - loss: 0.0692\n",
            "Epoch 4/30\n",
            "1/1 [==============================] - 0s 8ms/step - loss: 0.0617\n",
            "Epoch 5/30\n",
            "1/1 [==============================] - 0s 6ms/step - loss: 0.0609\n",
            "Epoch 6/30\n",
            "1/1 [==============================] - 0s 10ms/step - loss: 0.0604\n",
            "Epoch 7/30\n",
            "1/1 [==============================] - 0s 6ms/step - loss: 0.0599\n",
            "Epoch 8/30\n",
            "1/1 [==============================] - 0s 6ms/step - loss: 0.0594\n",
            "Epoch 9/30\n",
            "1/1 [==============================] - 0s 6ms/step - loss: 0.0589\n",
            "Epoch 10/30\n",
            "1/1 [==============================] - 0s 6ms/step - loss: 0.0584\n",
            "Epoch 11/30\n",
            "1/1 [==============================] - 0s 5ms/step - loss: 0.0579\n",
            "Epoch 12/30\n",
            "1/1 [==============================] - 0s 5ms/step - loss: 0.0574\n",
            "Epoch 13/30\n",
            "1/1 [==============================] - 0s 5ms/step - loss: 0.0569\n",
            "Epoch 14/30\n",
            "1/1 [==============================] - 0s 5ms/step - loss: 0.0564\n",
            "Epoch 15/30\n",
            "1/1 [==============================] - 0s 9ms/step - loss: 0.0560\n",
            "Epoch 16/30\n",
            "1/1 [==============================] - 0s 5ms/step - loss: 0.0555\n",
            "Epoch 17/30\n",
            "1/1 [==============================] - 0s 6ms/step - loss: 0.0550\n",
            "Epoch 18/30\n",
            "1/1 [==============================] - 0s 5ms/step - loss: 0.0546\n",
            "Epoch 19/30\n",
            "1/1 [==============================] - 0s 9ms/step - loss: 0.0541\n",
            "Epoch 20/30\n",
            "1/1 [==============================] - 0s 5ms/step - loss: 0.0537\n",
            "Epoch 21/30\n",
            "1/1 [==============================] - 0s 5ms/step - loss: 0.0532\n",
            "Epoch 22/30\n",
            "1/1 [==============================] - 0s 5ms/step - loss: 0.0528\n",
            "Epoch 23/30\n",
            "1/1 [==============================] - 0s 5ms/step - loss: 0.0523\n",
            "Epoch 24/30\n",
            "1/1 [==============================] - 0s 5ms/step - loss: 0.0519\n",
            "Epoch 25/30\n",
            "1/1 [==============================] - 0s 5ms/step - loss: 0.0515\n",
            "Epoch 26/30\n",
            "1/1 [==============================] - 0s 5ms/step - loss: 0.0510\n",
            "Epoch 27/30\n",
            "1/1 [==============================] - 0s 5ms/step - loss: 0.0506\n",
            "Epoch 28/30\n",
            "1/1 [==============================] - 0s 6ms/step - loss: 0.0502\n",
            "Epoch 29/30\n",
            "1/1 [==============================] - 0s 6ms/step - loss: 0.0497\n",
            "Epoch 30/30\n",
            "1/1 [==============================] - 0s 5ms/step - loss: 0.0493\n",
            "1/1 [==============================] - 0s 77ms/step\n",
            "[4002619.74334717]\n"
          ]
        }
      ]
    }
  ]
}